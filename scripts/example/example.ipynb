{
 "cells": [
  {
   "cell_type": "markdown",
   "metadata": {},
   "source": [
    "## Convert GenBank ID(Accession number) to UniProt ID(Accession number)"
   ]
  },
  {
   "cell_type": "code",
   "execution_count": 17,
   "metadata": {},
   "outputs": [
    {
     "name": "stdout",
     "output_type": "stream",
     "text": [
      "From\tTo\n",
      "ATE90961.1\tA0A291B645\n",
      "\n",
      "['A0A291B645']\n"
     ]
    }
   ],
   "source": [
    "import requests\n",
    "\n",
    "result_converter = lambda row: row.split(\"\\t\")[-1]\n",
    "\n",
    "# Retrieve/ID mapping service from UniProt\n",
    "url = 'https://www.uniprot.org/uploadlists/'\n",
    "\n",
    "params = {\n",
    "    'from': 'EMBL',\n",
    "    'to': 'ACC',\n",
    "    'format': 'tab',\n",
    "    'query': 'ATE90961.1'\n",
    "}\n",
    "\n",
    "r = requests.post(url, data=params)\n",
    "print(r.text)\n",
    "print([i.split(\"\\t\")[-1] for i in r.text.splitlines()[1:]])"
   ]
  },
  {
   "cell_type": "markdown",
   "metadata": {},
   "source": [
    "## Read a sample protein sequence from FASTA file"
   ]
  },
  {
   "cell_type": "code",
   "execution_count": 15,
   "metadata": {},
   "outputs": [
    {
     "name": "stdout",
     "output_type": "stream",
     "text": [
      "ID: A0A291B645\n",
      "Description: tr|A0A291B645|A0A291B645_9VIRU Major capsid protein OS=Shrimp hemocyte iridescent virus OX=2039780 GN=148L PE=3 SV=1\n",
      "Sequence: MLRFIYEKKILLIKNCKMANIAGALQDMANLGAVERYQYGTTNAVTYFIRETRKSTLFSQLPIQLSSKNGNPDFDREWSVEPSKAFDYLIHMWIRVTVPEVKLLAGNVYKEHGRIRWTRNFMHNLIKKVSFNVNDLEIEKFDNYFLDFWNQFTLSSSKKDGYNNMIGNDDDLLIPKSKDGKIESKSLTLPIPFFFSRDSGLALPVGGVKWNKLRIDFEFRNWTELLILENVGAAHNGEKNPCKVPQVGSDIAVAPSLSNVQCWVNGGLIPEAERARMGCVHRDMLIESIQTSSKLNFNPVLNPNPSYDIRFQRTVKALFFGVRNTTNPNVWSNYTTASPVPDADKIDFDPDQSAFDPIGTANIRYESSDRIPVMTADYFSLIEPYYKAPAIPELTGYHMFSYALKMNNVDPSGSANYSILNNVSIQLQCSEAAIKAAKGEGEAKTGTDYAQSFQFLVIAISQNVLTLKNGMLGLPFM\n"
     ]
    }
   ],
   "source": [
    "from Bio import SeqIO\n",
    "record = SeqIO.read(\"sample.fasta\", format=\"fasta\")\n",
    "\n",
    "print(\"ID:\", record.id.split(\"|\")[1])\n",
    "print(\"Description:\", record.description)\n",
    "print(\"Sequence:\", record.seq)"
   ]
  },
  {
   "cell_type": "markdown",
   "metadata": {},
   "source": [
    "## Identify accession number"
   ]
  },
  {
   "cell_type": "code",
   "execution_count": 38,
   "metadata": {},
   "outputs": [
    {
     "data": {
      "text/plain": [
       "True"
      ]
     },
     "execution_count": 38,
     "metadata": {},
     "output_type": "execute_result"
    }
   ],
   "source": [
    "import re\n",
    "\n",
    "UNIPROT_ACCESSION_NUMBER_FORMAT = r\"^([A-N,R-Z][0-9]([A-Z][A-Z,0-9][A-Z,0-9][0-9]){1,2})|([O,P,Q][0-9][A-Z,0-9][A-Z,0-9][A-Z,0-9][0-9])(\\.\\d+)?$\"  # noqa: E501\n",
    "GENBANK_ACCESSION_NUMBER_FORMAT = r\"^([A-Za-z0-9]+\\d+(\\.\\d+)?)|((N|X|W|A)P_\\d+)$\"\n",
    "\n",
    "\n",
    "def is_accession_format(v: str) -> bool:\n",
    "    return (\n",
    "        re.fullmatch(GENBANK_ACCESSION_NUMBER_FORMAT, v.upper()) is not None\n",
    "        or re.fullmatch(UNIPROT_ACCESSION_NUMBER_FORMAT, v.upper()) is not None\n",
    "    )\n",
    "\n",
    "is_accession_format(\"WP_123456\")"
   ]
  },
  {
   "cell_type": "markdown",
   "metadata": {},
   "source": [
    "## NCBI Blast service test"
   ]
  },
  {
   "cell_type": "code",
   "execution_count": 30,
   "metadata": {},
   "outputs": [],
   "source": [
    "from Bio.Blast import NCBIWWW\n",
    "from Bio.Blast import NCBIXML\n",
    "from Bio import SeqIO\n",
    "record = SeqIO.read(\"sample.fasta\", format=\"fasta\")\n",
    "# entrez query builder: https://www.ncbi.nlm.nih.gov/protein/advanced\n",
    "result = NCBIWWW.qblast(\"blastp\", \"nr\", record.format(\"fasta\"),\n",
    "                        expect=5.0,\n",
    "                        hitlist_size=5)\n",
    "record = NCBIXML.read(result)\n",
    "result.close()"
   ]
  },
  {
   "cell_type": "code",
   "execution_count": 41,
   "metadata": {},
   "outputs": [
    {
     "name": "stdout",
     "output_type": "stream",
     "text": [
      "Found sequence accession number!\n",
      "Accession: YP_010084900.1\n"
     ]
    }
   ],
   "source": [
    "descs = record.alignments[0].hit_def.split(\" >\")\n",
    "\n",
    "target = None\n",
    "for desc in descs:\n",
    "    if desc.find(\"partial\") == -1:\n",
    "        target = desc\n",
    "        break\n",
    "\n",
    "if target:\n",
    "    print(\"Found sequence accession number!\")\n",
    "    print(\"Accession:\", target.split(\"|\")[1])\n",
    "else:\n",
    "    print(\"404 not found!\")"
   ]
  }
 ],
 "metadata": {
  "interpreter": {
   "hash": "d03d4e2857a3ed119e2880c0510349750e2d2b09c456d164ef296a9dfaa24d84"
  },
  "kernelspec": {
   "display_name": "Python 3.7.11 64-bit ('bioproject': conda)",
   "name": "python3"
  },
  "language_info": {
   "codemirror_mode": {
    "name": "ipython",
    "version": 3
   },
   "file_extension": ".py",
   "mimetype": "text/x-python",
   "name": "python",
   "nbconvert_exporter": "python",
   "pygments_lexer": "ipython3",
   "version": "3.7.11"
  },
  "orig_nbformat": 4
 },
 "nbformat": 4,
 "nbformat_minor": 2
}
