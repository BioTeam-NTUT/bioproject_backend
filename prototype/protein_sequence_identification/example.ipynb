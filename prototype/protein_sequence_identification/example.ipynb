{
 "cells": [
  {
   "cell_type": "markdown",
   "metadata": {},
   "source": [
    "## Uniprot Service\n",
    "##### example: https://nbviewer.ipython.org/github/cokelaer/bioservices/blob/master/doc/notebooks/UniProt.ipynb"
   ]
  },
  {
   "cell_type": "markdown",
   "metadata": {},
   "source": [
    "## Convert GenBank ID (Accession number) to UniProt ID (Accession number)"
   ]
  },
  {
   "cell_type": "code",
   "execution_count": 14,
   "metadata": {},
   "outputs": [
    {
     "name": "stdout",
     "output_type": "stream",
     "text": [
      "From\tTo\n",
      "ATE90961.1\tA0A291B645\n",
      "\n",
      "['A0A291B645']\n"
     ]
    }
   ],
   "source": [
    "import requests\n",
    "\n",
    "result_converter = lambda row: row.split(\"\\t\")[-1]\n",
    "\n",
    "# Retrieve/ID mapping service from UniProt\n",
    "url = 'https://www.uniprot.org/uploadlists/'\n",
    "\n",
    "params = {\n",
    "    'from': 'EMBL',\n",
    "    'to': 'ACC',\n",
    "    'format': 'tab',\n",
    "    'query': 'ATE90961.1 YP_010084900.1'\n",
    "}\n",
    "\n",
    "r = requests.post(url, data=params)\n",
    "print(r.text)\n",
    "print([result_converter(i) for i in r.text.splitlines()[1:]])"
   ]
  },
  {
   "cell_type": "code",
   "execution_count": 32,
   "metadata": {},
   "outputs": [],
   "source": [
    "from bioservices import UniProt\n",
    "\n",
    "source = \"ATE90961.1\"\n",
    "\n",
    "uniprot = UniProt(verbose=False)\n",
    "result = uniprot.mapping(\"EMBL\", \"ACC\", source)"
   ]
  },
  {
   "cell_type": "code",
   "execution_count": 33,
   "metadata": {},
   "outputs": [
    {
     "data": {
      "text/plain": [
       "'A0A291B645'"
      ]
     },
     "execution_count": 33,
     "metadata": {},
     "output_type": "execute_result"
    }
   ],
   "source": [
    "result[source][0]"
   ]
  },
  {
   "cell_type": "markdown",
   "metadata": {},
   "source": [
    "## Read a sample protein sequence from FASTA file"
   ]
  },
  {
   "cell_type": "code",
   "execution_count": 9,
   "metadata": {},
   "outputs": [
    {
     "name": "stdout",
     "output_type": "stream",
     "text": [
      "ID: sp|A0A2D2AKT0|A0A2D2AKT0_9VIRU\n",
      "Description: sp|A0A2D2AKT0|A0A2D2AKT0_9VIRU Capsid protein alpha OS=Redspotted grouper nervous necrosis virus OX=43763 PE=3 SV=1\n",
      "Sequence: MVRKGEKKLAKPATTKAANPQPRRRANNRRRSNRTDAPVSKASTVTGFGRGTNDVHLSGMSRISQAVLPAGTGTDGYVVVDATIVPDLLPRLGHAARIFQRYAVETLEFEIQPMCPANTGGGYVAGFLPNPTDNDHTFDAIQATRGAVVAKWWESRTVRPQYTRTLLWTSSGKEQRLTSPGRLILLCVGDNTDVVNVSVLCRWSVRLSVPSLETPEETTAPIMTQGSLYNDSLSTNDFKSILLGSIPLDIAPDGAVFQLDRPLSIDYSLGTGDVDRAVYWHLKKFAGNASTPAGWFRWGIWDNFNKTFTDGVAYYPDEQPRQILLPVGTVCTRVDSEN\n"
     ]
    }
   ],
   "source": [
    "from Bio import SeqIO\n",
    "record = SeqIO.read(\"sample.fasta\", format=\"fasta\")\n",
    "\n",
    "print(\"ID:\", record.id)\n",
    "print(\"Description:\", record.description)\n",
    "print(\"Sequence:\", record.seq)"
   ]
  },
  {
   "cell_type": "code",
   "execution_count": 13,
   "metadata": {},
   "outputs": [
    {
     "name": "stdout",
     "output_type": "stream",
     "text": [
      "Only sp and gi header are recognised so far but sequence and header are loaded\n",
      "ID: tr|A0A2D2AKT0|A0A2D2AKT0_9VIRU\n",
      "Accession: None\n",
      "Description: tr|A0A2D2AKT0|A0A2D2AKT0_9VIRU Capsid protein alpha OS=Redspotted grouper nervous necrosis virus OX=43763 PE=3 SV=1\n",
      "Sequence: MVRKGEKKLAKPATTKAANPQPRRRANNRRRSNRTDAPVSKASTVTGFGRGTNDVHLSGMSRISQAVLPAGTGTDGYVVVDATIVPDLLPRLGHAARIFQRYAVETLEFEIQPMCPANTGGGYVAGFLPNPTDNDHTFDAIQATRGAVVAKWWESRTVRPQYTRTLLWTSSGKEQRLTSPGRLILLCVGDNTDVVNVSVLCRWSVRLSVPSLETPEETTAPIMTQGSLYNDSLSTNDFKSILLGSIPLDIAPDGAVFQLDRPLSIDYSLGTGDVDRAVYWHLKKFAGNASTPAGWFRWGIWDNFNKTFTDGVAYYPDEQPRQILLPVGTVCTRVDSEN\n"
     ]
    }
   ],
   "source": [
    "from bioservices.apps.fasta import FASTA\n",
    "record = FASTA()\n",
    "record.read_fasta(\"sample.fasta\")\n",
    "\n",
    "print(\"ID:\", record.identifier)\n",
    "print(\"Accession:\", record.accession)\n",
    "print(\"Description:\", record.header)\n",
    "print(\"Sequence:\", record.sequence)"
   ]
  },
  {
   "cell_type": "markdown",
   "metadata": {},
   "source": [
    "## Check accession number"
   ]
  },
  {
   "cell_type": "code",
   "execution_count": null,
   "metadata": {},
   "outputs": [
    {
     "data": {
      "text/plain": [
       "True"
      ]
     },
     "execution_count": 1,
     "metadata": {},
     "output_type": "execute_result"
    }
   ],
   "source": [
    "import re\n",
    "\n",
    "UNIPROT_ACCESSION_NUMBER_FORMAT = r\"^([A-N,R-Z][0-9]([A-Z][A-Z,0-9][A-Z,0-9][0-9]){1,2})|([O,P,Q][0-9][A-Z,0-9][A-Z,0-9][A-Z,0-9][0-9])(\\.\\d+)?$\"  # noqa: E501\n",
    "GENBANK_ACCESSION_NUMBER_FORMAT = r\"^([A-Za-z0-9]+\\d+(\\.\\d+)?)|((N|X|W|A)P_\\d+)$\"\n",
    "\n",
    "\n",
    "def is_accession_format(v: str) -> bool:\n",
    "    return (\n",
    "        re.fullmatch(GENBANK_ACCESSION_NUMBER_FORMAT, v) is not None\n",
    "        or re.fullmatch(UNIPROT_ACCESSION_NUMBER_FORMAT, v) is not None\n",
    "    )\n",
    "\n",
    "is_accession_format(\"WP_123456\")"
   ]
  },
  {
   "cell_type": "markdown",
   "metadata": {},
   "source": [
    "## Uniprot Blast\n",
    "##### Documentation: https://www.ebi.ac.uk/seqdb/confluence/pages/viewpage.action?pageId=94147939\n",
    "##### NCBIblast example: https://nbviewer.ipython.org/github/cokelaer/bioservices/blob/master/doc/notebooks/NCBIBlast.ipynb"
   ]
  },
  {
   "cell_type": "code",
   "execution_count": 7,
   "metadata": {},
   "outputs": [
    {
     "name": "stdout",
     "output_type": "stream",
     "text": [
      "Identity: 100.0\n",
      "Sequences: [{'hit_num': 1, 'hit_def': 'TR:A0A249Y6I2 A0A249Y6I2_9VIRU Major capsid protein (Fragment) OS=Cherax quadricarinatus iridovirus OX=2035708 PE=3 SV=1', 'hit_db': 'TR', 'hit_id': 'A0A249Y6I2_9VIRU', 'hit_acc': 'A0A249Y6I2', 'hit_desc': 'Major capsid protein (Fragment) OS=Cherax quadricarinatus iridovirus OX=2035708 PE=3 SV=1', 'hit_url': 'https://www.uniprot.org/uniprot/A0A249Y6I2', 'hit_xref_url': 'https://www.ebi.ac.uk/ebisearch/search.ebi?db=uniprot&query=A0A249Y6I2', 'hit_uni_de': 'Major capsid protein (Fragment)', 'hit_uni_os': 'Cherax quadricarinatus iridovirus', 'hit_uni_ox': '2035708', 'hit_uni_pe': '3', 'hit_uni_sv': '1', 'hit_len': 477, 'hit_hsps': [{'hsp_num': 1, 'hsp_score': 2509, 'hsp_bit_score': 971.074, 'hsp_expect': 0.0, 'hsp_align_len': 477, 'hsp_identity': 100.0, 'hsp_positive': 100.0, 'hsp_gaps': 0, 'hsp_query_frame': '0', 'hsp_hit_frame': '0', 'hsp_strand': 'none/none', 'hsp_query_from': 1, 'hsp_query_to': 477, 'hsp_hit_from': 1, 'hsp_hit_to': 477, 'hsp_qseq': 'MLRFIYEKKILLIKNCKMANIAGALQDMANLGAVERYQYGTTNAVTYFIRETRKSTLFSQLPIQLSSKNGNPDFDREWSVEPSKAFDYLIHMWIRVTVPEVKLLAGNVYKEHGRIRWTRNFMHNLIKKVSFNVNDLEIEKFDNYFLDFWNQFTLSSSKKDGYNNMIGNDDDLLIPKSKDGKIESKSLTLPIPFFFSRDSGLALPVGGVKWNKLRIDFEFRNWTELLILENVGAAHNGEKNPCKVPQVGSDIAVAPSLSNVQCWVNGGLIPEAERARMGCVHRDMLIESIQTSSKLNFNPVLNPNPSYDIRFQRTVKALFFGVRNTTNPNVWSNYTTASPVPDADKIDFDPDQSAFDPIGTANIRYESSDRIPVMTADYFSLIEPYYKAPAIPELTGYHMFSYALKMNNVDPSGSANYSILNNVSIQLQCSEAAIKAAKGEGEAKTGTDYAQSFQFLVIAISQNVLTLKNGMLGLPFM', 'hsp_mseq': 'MLRFIYEKKILLIKNCKMANIAGALQDMANLGAVERYQYGTTNAVTYFIRETRKSTLFSQLPIQLSSKNGNPDFDREWSVEPSKAFDYLIHMWIRVTVPEVKLLAGNVYKEHGRIRWTRNFMHNLIKKVSFNVNDLEIEKFDNYFLDFWNQFTLSSSKKDGYNNMIGNDDDLLIPKSKDGKIESKSLTLPIPFFFSRDSGLALPVGGVKWNKLRIDFEFRNWTELLILENVGAAHNGEKNPCKVPQVGSDIAVAPSLSNVQCWVNGGLIPEAERARMGCVHRDMLIESIQTSSKLNFNPVLNPNPSYDIRFQRTVKALFFGVRNTTNPNVWSNYTTASPVPDADKIDFDPDQSAFDPIGTANIRYESSDRIPVMTADYFSLIEPYYKAPAIPELTGYHMFSYALKMNNVDPSGSANYSILNNVSIQLQCSEAAIKAAKGEGEAKTGTDYAQSFQFLVIAISQNVLTLKNGMLGLPFM', 'hsp_hseq': 'MLRFIYEKKILLIKNCKMANIAGALQDMANLGAVERYQYGTTNAVTYFIRETRKSTLFSQLPIQLSSKNGNPDFDREWSVEPSKAFDYLIHMWIRVTVPEVKLLAGNVYKEHGRIRWTRNFMHNLIKKVSFNVNDLEIEKFDNYFLDFWNQFTLSSSKKDGYNNMIGNDDDLLIPKSKDGKIESKSLTLPIPFFFSRDSGLALPVGGVKWNKLRIDFEFRNWTELLILENVGAAHNGEKNPCKVPQVGSDIAVAPSLSNVQCWVNGGLIPEAERARMGCVHRDMLIESIQTSSKLNFNPVLNPNPSYDIRFQRTVKALFFGVRNTTNPNVWSNYTTASPVPDADKIDFDPDQSAFDPIGTANIRYESSDRIPVMTADYFSLIEPYYKAPAIPELTGYHMFSYALKMNNVDPSGSANYSILNNVSIQLQCSEAAIKAAKGEGEAKTGTDYAQSFQFLVIAISQNVLTLKNGMLGLPFM'}]}, {'hit_num': 2, 'hit_def': 'TR:A0A291B645 A0A291B645_9VIRU Major capsid protein OS=Shrimp hemocyte iridescent virus OX=2039780 GN=148L PE=3 SV=1', 'hit_db': 'TR', 'hit_id': 'A0A291B645_9VIRU', 'hit_acc': 'A0A291B645', 'hit_desc': 'Major capsid protein OS=Shrimp hemocyte iridescent virus OX=2039780 GN=148L PE=3 SV=1', 'hit_url': 'https://www.uniprot.org/uniprot/A0A291B645', 'hit_xref_url': 'https://www.ebi.ac.uk/ebisearch/search.ebi?db=uniprot&query=A0A291B645', 'hit_uni_de': 'Major capsid protein', 'hit_uni_os': 'Shrimp hemocyte iridescent virus', 'hit_uni_ox': '2039780', 'hit_uni_gn': '148L', 'hit_uni_pe': '3', 'hit_uni_sv': '1', 'hit_len': 477, 'hit_hsps': [{'hsp_num': 1, 'hsp_score': 2509, 'hsp_bit_score': 971.074, 'hsp_expect': 0.0, 'hsp_align_len': 477, 'hsp_identity': 100.0, 'hsp_positive': 100.0, 'hsp_gaps': 0, 'hsp_query_frame': '0', 'hsp_hit_frame': '0', 'hsp_strand': 'none/none', 'hsp_query_from': 1, 'hsp_query_to': 477, 'hsp_hit_from': 1, 'hsp_hit_to': 477, 'hsp_qseq': 'MLRFIYEKKILLIKNCKMANIAGALQDMANLGAVERYQYGTTNAVTYFIRETRKSTLFSQLPIQLSSKNGNPDFDREWSVEPSKAFDYLIHMWIRVTVPEVKLLAGNVYKEHGRIRWTRNFMHNLIKKVSFNVNDLEIEKFDNYFLDFWNQFTLSSSKKDGYNNMIGNDDDLLIPKSKDGKIESKSLTLPIPFFFSRDSGLALPVGGVKWNKLRIDFEFRNWTELLILENVGAAHNGEKNPCKVPQVGSDIAVAPSLSNVQCWVNGGLIPEAERARMGCVHRDMLIESIQTSSKLNFNPVLNPNPSYDIRFQRTVKALFFGVRNTTNPNVWSNYTTASPVPDADKIDFDPDQSAFDPIGTANIRYESSDRIPVMTADYFSLIEPYYKAPAIPELTGYHMFSYALKMNNVDPSGSANYSILNNVSIQLQCSEAAIKAAKGEGEAKTGTDYAQSFQFLVIAISQNVLTLKNGMLGLPFM', 'hsp_mseq': 'MLRFIYEKKILLIKNCKMANIAGALQDMANLGAVERYQYGTTNAVTYFIRETRKSTLFSQLPIQLSSKNGNPDFDREWSVEPSKAFDYLIHMWIRVTVPEVKLLAGNVYKEHGRIRWTRNFMHNLIKKVSFNVNDLEIEKFDNYFLDFWNQFTLSSSKKDGYNNMIGNDDDLLIPKSKDGKIESKSLTLPIPFFFSRDSGLALPVGGVKWNKLRIDFEFRNWTELLILENVGAAHNGEKNPCKVPQVGSDIAVAPSLSNVQCWVNGGLIPEAERARMGCVHRDMLIESIQTSSKLNFNPVLNPNPSYDIRFQRTVKALFFGVRNTTNPNVWSNYTTASPVPDADKIDFDPDQSAFDPIGTANIRYESSDRIPVMTADYFSLIEPYYKAPAIPELTGYHMFSYALKMNNVDPSGSANYSILNNVSIQLQCSEAAIKAAKGEGEAKTGTDYAQSFQFLVIAISQNVLTLKNGMLGLPFM', 'hsp_hseq': 'MLRFIYEKKILLIKNCKMANIAGALQDMANLGAVERYQYGTTNAVTYFIRETRKSTLFSQLPIQLSSKNGNPDFDREWSVEPSKAFDYLIHMWIRVTVPEVKLLAGNVYKEHGRIRWTRNFMHNLIKKVSFNVNDLEIEKFDNYFLDFWNQFTLSSSKKDGYNNMIGNDDDLLIPKSKDGKIESKSLTLPIPFFFSRDSGLALPVGGVKWNKLRIDFEFRNWTELLILENVGAAHNGEKNPCKVPQVGSDIAVAPSLSNVQCWVNGGLIPEAERARMGCVHRDMLIESIQTSSKLNFNPVLNPNPSYDIRFQRTVKALFFGVRNTTNPNVWSNYTTASPVPDADKIDFDPDQSAFDPIGTANIRYESSDRIPVMTADYFSLIEPYYKAPAIPELTGYHMFSYALKMNNVDPSGSANYSILNNVSIQLQCSEAAIKAAKGEGEAKTGTDYAQSFQFLVIAISQNVLTLKNGMLGLPFM'}]}]\n"
     ]
    }
   ],
   "source": [
    "import json\n",
    "from bioservices import NCBIblast\n",
    "\n",
    "\n",
    "OUTPUT_FILE_NAME = \"blast-uniprot-sample\"\n",
    "\n",
    "def blast(sequence_file_name: str, output_file_name: str):\n",
    "    out = run([\"python\", \"ncbiblast.py\", \"--outformat\", \"json\", \"--exp\", \"1e-3\", \"--gapalign\", \"false\", \"--email\", \"leaf.ying.work@gmail.com\", \"--stype\", \"protein\", \"--program\", \"blastp\", \"--database\", \"uniprotkb\", \"--sequence\", sequence_file_name, \"--outfile\", output_file_name], capture_output=True)\n",
    "    out.check_returncode()\n",
    "\n",
    "def identify_sequence(source_file_name: str, threshold: float = 50.0):\n",
    "    blast(source_file_name, OUTPUT_FILE_NAME)\n",
    "\n",
    "    data = {}\n",
    "    with open(\"./blast-uniprot-test.json.json\", \"r\") as f:\n",
    "        data = json.loads(f.read())\n",
    "\n",
    "    # Get similar sequences\n",
    "    sequences = []\n",
    "    first_idendity = -1\n",
    "    for sequence in data[\"hits\"]:\n",
    "        hsp_length = len(sequence[\"hit_hsps\"])\n",
    "\n",
    "        if (hsp_length > 0):\n",
    "            identity = sum(hsp[\"hsp_identity\"] for hsp in sequence[\"hit_hsps\"]) / hsp_length\n",
    "            if (identity < threshold):\n",
    "                break\n",
    "\n",
    "            if (first_idendity == -1):\n",
    "                first_idendity = identity\n",
    "                sequences.append(sequence)\n",
    "            else:\n",
    "                if (first_idendity == identity):\n",
    "                    sequences.append(sequence)\n",
    "                else:\n",
    "                    break\n",
    "\n",
    "    return first_idendity, sequences\n",
    "\n",
    "\n",
    "threshold = 50.0\n",
    "\n",
    "identity, sequences = identify_sequence(\"sample_only_seq.fasta\", threshold)\n",
    "print(f\"Identity: {identity}\")\n",
    "print(f\"Sequences: {sequences}\")"
   ]
  },
  {
   "cell_type": "markdown",
   "metadata": {},
   "source": [
    "## TODO: Identify rules"
   ]
  },
  {
   "cell_type": "markdown",
   "metadata": {},
   "source": [
    "## Subprocess introduction\n",
    "Documentation: https://docs.python.org/3.9/library/subprocess.html"
   ]
  },
  {
   "cell_type": "code",
   "execution_count": 8,
   "metadata": {},
   "outputs": [
    {
     "name": "stdout",
     "output_type": "stream",
     "text": [
      "sease\n",
      "started main at 22:10:14\n",
      "start blocking_io at 22:10:14\n",
      "blocking_io complete at 22:10:15\n",
      "sease\n",
      "finished main at 22:10:15\n",
      "[True]\n"
     ]
    }
   ],
   "source": [
    "import time, asyncio\n",
    "\n",
    "def blocking_io():\n",
    "    print(f\"start blocking_io at {time.strftime('%X')}\")\n",
    "    # Note that time.sleep() can be replaced with any blocking\n",
    "    # IO-bound operation, such as file operations.\n",
    "    time.sleep(1)\n",
    "    print(f\"blocking_io complete at {time.strftime('%X')}\")\n",
    "    return True\n",
    "\n",
    "async def main():\n",
    "    print(f\"started main at {time.strftime('%X')}\")\n",
    "\n",
    "    result = await asyncio.gather(asyncio.to_thread(blocking_io))\n",
    "\n",
    "    print(f\"finished main at {time.strftime('%X')}\")\n",
    "\n",
    "    return result\n",
    "\n",
    "\n",
    "task = asyncio.create_task(main())\n",
    "print(\"sease\")\n",
    "\n",
    "await asyncio.sleep(1)\n",
    "\n",
    "print(\"sease\")\n",
    "print(await task)"
   ]
  },
  {
   "cell_type": "markdown",
   "metadata": {},
   "source": [
    "\n",
    "## 延伸閱讀  \n",
    "async-io-design-patterns-python: https://www.maxlist.xyz/2020/04/03/async-io-design-patterns-python/  \n",
    "concurrency-programming: https://www.maxlist.xyz/2020/04/09/concurrency-programming/  \n",
    "python-multithreading: https://www.maxlist.xyz/2020/03/15/python-threading/  \n",
    "Concurrency: https://realpython.com/python-concurrency/"
   ]
  },
  {
   "cell_type": "markdown",
   "metadata": {},
   "source": [
    "## NCBI Blast (Deprecated)"
   ]
  },
  {
   "cell_type": "code",
   "execution_count": null,
   "metadata": {},
   "outputs": [],
   "source": [
    "from Bio.Blast import NCBIWWW\n",
    "from Bio.Blast import NCBIXML\n",
    "from Bio import SeqIO\n",
    "record = SeqIO.read(\"sample.fasta\", format=\"fasta\")\n",
    "# entrez query builder: https://www.ncbi.nlm.nih.gov/protein/advanced\n",
    "result = NCBIWWW.qblast(\"blastp\", \"swissprot\", record.format(\"fasta\"),\n",
    "                        expect=0.01,\n",
    "                        hitlist_size=5)\n",
    "record = NCBIXML.read(result)\n",
    "result.close()"
   ]
  },
  {
   "cell_type": "code",
   "execution_count": null,
   "metadata": {},
   "outputs": [
    {
     "name": "stdout",
     "output_type": "stream",
     "text": [
      "sp|Q05815.2| RecName: Full=Major capsid protein; Short=MCP; AltName: Full=P50 [Invertebrate iridescent virus 6]\n",
      "sp|O39163.1| RecName: Full=Major capsid protein; Short=MCP; AltName: Full=P50 [Wiseana iridescent virus]\n",
      "sp|O39164.1| RecName: Full=Major capsid protein; Short=MCP; AltName: Full=P50 [Costelytra zealandica iridescent virus]\n",
      "sp|Q197E6.1| RecName: Full=Major capsid protein; Short=MCP [Invertebrate iridescent virus 3]\n",
      "sp|P22166.1| RecName: Full=Major capsid protein; Short=MCP; AltName: Full=P50 [Simulium sp. iridescent virus]\n",
      "\n",
      "RecName: Full=Major capsid protein; Short=MCP; AltName: Full=P50 [Invertebrate iridescent virus 6]\n",
      "RecName: Full=Major capsid protein; Short=MCP; AltName: Full=P50 [Wiseana iridescent virus]\n",
      "RecName: Full=Major capsid protein; Short=MCP; AltName: Full=P50 [Costelytra zealandica iridescent virus]\n",
      "RecName: Full=Major capsid protein; Short=MCP [Invertebrate iridescent virus 3]\n",
      "RecName: Full=Major capsid protein; Short=MCP; AltName: Full=P50 [Simulium sp. iridescent virus]\n"
     ]
    }
   ],
   "source": [
    "for description in record.descriptions:\n",
    "    print(description.title)\n",
    "\n",
    "print()\n",
    "for alignment in record.alignments:\n",
    "    print(alignment.hit_def)"
   ]
  },
  {
   "cell_type": "code",
   "execution_count": null,
   "metadata": {},
   "outputs": [
    {
     "name": "stdout",
     "output_type": "stream",
     "text": [
      "Found sequence accession number!\n",
      "Accession: YP_010084900.1\n"
     ]
    }
   ],
   "source": [
    "descs = record.alignments[0].hit_def.split(\" >\")\n",
    "\n",
    "target = None\n",
    "for desc in descs:\n",
    "    if desc.find(\"partial\") == -1:\n",
    "        target = desc\n",
    "        break\n",
    "\n",
    "if target:\n",
    "    print(\"Found sequence accession number!\")\n",
    "    print(\"Accession:\", target.split(\"|\")[1])\n",
    "else:\n",
    "    print(\"404 not found!\")"
   ]
  }
 ],
 "metadata": {
  "interpreter": {
   "hash": "d03d4e2857a3ed119e2880c0510349750e2d2b09c456d164ef296a9dfaa24d84"
  },
  "kernelspec": {
   "display_name": "Python 3 (ipykernel)",
   "language": "python",
   "name": "python3"
  },
  "language_info": {
   "codemirror_mode": {
    "name": "ipython",
    "version": 3
   },
   "file_extension": ".py",
   "mimetype": "text/x-python",
   "name": "python",
   "nbconvert_exporter": "python",
   "pygments_lexer": "ipython3",
   "version": "3.9.9"
  },
  "orig_nbformat": 4
 },
 "nbformat": 4,
 "nbformat_minor": 2
}
